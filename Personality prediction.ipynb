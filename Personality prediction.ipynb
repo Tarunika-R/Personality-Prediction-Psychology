{
  "cells": [
    {
      "cell_type": "markdown",
      "metadata": {
        "id": "view-in-github",
        "colab_type": "text"
      },
      "source": [
        "<a href=\"https://colab.research.google.com/github/Tarunika-R/Personality_Predict_Psychology/blob/main/ML_personality_prediction_final.ipynb\" target=\"_parent\"><img src=\"https://colab.research.google.com/assets/colab-badge.svg\" alt=\"Open In Colab\"/></a>"
      ]
    },
    {
      "cell_type": "markdown",
      "source": [
        "# Project: Presonality Prediction - Psychology"
      ],
      "metadata": {
        "id": "P30PyMcWBvEe"
      }
    },
    {
      "cell_type": "markdown",
      "source": [
        "Import necessary libraries"
      ],
      "metadata": {
        "id": "FWQtdCMdDkku"
      }
    },
    {
      "cell_type": "code",
      "execution_count": null,
      "metadata": {
        "id": "o96X4aKnWwNd"
      },
      "outputs": [],
      "source": [
        "import pandas as pd\n",
        "from sklearn.feature_extraction.text import TfidfVectorizer\n",
        "from sklearn.model_selection import train_test_split\n",
        "from sklearn.linear_model import LogisticRegression\n",
        "from sklearn.metrics import classification_report\n",
        "from sklearn.cluster import KMeans\n",
        "from sklearn.preprocessing import OneHotEncoder\n",
        "import matplotlib.pyplot as plt\n",
        "from sklearn.neighbors import KNeighborsClassifier\n"
      ]
    },
    {
      "cell_type": "markdown",
      "source": [
        "Exploratory Data Analysis"
      ],
      "metadata": {
        "id": "8DrImTgZDyOn"
      }
    },
    {
      "cell_type": "code",
      "execution_count": null,
      "metadata": {
        "colab": {
          "base_uri": "https://localhost:8080/",
          "height": 299
        },
        "id": "TojykZxNhRBS",
        "outputId": "34906407-33f6-45a6-dbe7-136b8af273e1"
      },
      "outputs": [
        {
          "output_type": "execute_result",
          "data": {
            "text/plain": [
              "   EXT2  EXT3  EXT5  EXT6  EXT8  EXT9  EST1  EST2  EST4  EST6  ...  CSN4  \\\n",
              "0   1.0   5.0   5.0   1.0   2.0   4.0   1.0   4.0   2.0   2.0  ...   2.0   \n",
              "1   5.0   3.0   3.0   3.0   5.0   1.0   2.0   3.0   1.0   1.0  ...   3.0   \n",
              "2   3.0   4.0   3.0   2.0   3.0   2.0   4.0   4.0   2.0   2.0  ...   2.0   \n",
              "3   2.0   2.0   4.0   2.0   4.0   1.0   3.0   3.0   2.0   2.0  ...   4.0   \n",
              "4   3.0   3.0   5.0   3.0   5.0   3.0   1.0   5.0   3.0   1.0  ...   1.0   \n",
              "\n",
              "   CSN5  CSN6  CSN9  OPN2  OPN3  OPN4  OPN5  OPN6  OPN7  \n",
              "0   2.0   4.0   4.0   1.0   4.0   1.0   4.0   1.0   5.0  \n",
              "1   3.0   1.0   5.0   2.0   4.0   2.0   3.0   1.0   4.0  \n",
              "2   3.0   3.0   4.0   1.0   2.0   1.0   4.0   2.0   5.0  \n",
              "3   1.0   2.0   1.0   2.0   5.0   2.0   3.0   1.0   4.0  \n",
              "4   3.0   1.0   5.0   1.0   5.0   1.0   5.0   1.0   5.0  \n",
              "\n",
              "[5 rows x 30 columns]"
            ],
            "text/html": [
              "\n",
              "  <div id=\"df-e8bfd6bb-5bba-4511-b131-270a0860b0c7\">\n",
              "    <div class=\"colab-df-container\">\n",
              "      <div>\n",
              "<style scoped>\n",
              "    .dataframe tbody tr th:only-of-type {\n",
              "        vertical-align: middle;\n",
              "    }\n",
              "\n",
              "    .dataframe tbody tr th {\n",
              "        vertical-align: top;\n",
              "    }\n",
              "\n",
              "    .dataframe thead th {\n",
              "        text-align: right;\n",
              "    }\n",
              "</style>\n",
              "<table border=\"1\" class=\"dataframe\">\n",
              "  <thead>\n",
              "    <tr style=\"text-align: right;\">\n",
              "      <th></th>\n",
              "      <th>EXT2</th>\n",
              "      <th>EXT3</th>\n",
              "      <th>EXT5</th>\n",
              "      <th>EXT6</th>\n",
              "      <th>EXT8</th>\n",
              "      <th>EXT9</th>\n",
              "      <th>EST1</th>\n",
              "      <th>EST2</th>\n",
              "      <th>EST4</th>\n",
              "      <th>EST6</th>\n",
              "      <th>...</th>\n",
              "      <th>CSN4</th>\n",
              "      <th>CSN5</th>\n",
              "      <th>CSN6</th>\n",
              "      <th>CSN9</th>\n",
              "      <th>OPN2</th>\n",
              "      <th>OPN3</th>\n",
              "      <th>OPN4</th>\n",
              "      <th>OPN5</th>\n",
              "      <th>OPN6</th>\n",
              "      <th>OPN7</th>\n",
              "    </tr>\n",
              "  </thead>\n",
              "  <tbody>\n",
              "    <tr>\n",
              "      <th>0</th>\n",
              "      <td>1.0</td>\n",
              "      <td>5.0</td>\n",
              "      <td>5.0</td>\n",
              "      <td>1.0</td>\n",
              "      <td>2.0</td>\n",
              "      <td>4.0</td>\n",
              "      <td>1.0</td>\n",
              "      <td>4.0</td>\n",
              "      <td>2.0</td>\n",
              "      <td>2.0</td>\n",
              "      <td>...</td>\n",
              "      <td>2.0</td>\n",
              "      <td>2.0</td>\n",
              "      <td>4.0</td>\n",
              "      <td>4.0</td>\n",
              "      <td>1.0</td>\n",
              "      <td>4.0</td>\n",
              "      <td>1.0</td>\n",
              "      <td>4.0</td>\n",
              "      <td>1.0</td>\n",
              "      <td>5.0</td>\n",
              "    </tr>\n",
              "    <tr>\n",
              "      <th>1</th>\n",
              "      <td>5.0</td>\n",
              "      <td>3.0</td>\n",
              "      <td>3.0</td>\n",
              "      <td>3.0</td>\n",
              "      <td>5.0</td>\n",
              "      <td>1.0</td>\n",
              "      <td>2.0</td>\n",
              "      <td>3.0</td>\n",
              "      <td>1.0</td>\n",
              "      <td>1.0</td>\n",
              "      <td>...</td>\n",
              "      <td>3.0</td>\n",
              "      <td>3.0</td>\n",
              "      <td>1.0</td>\n",
              "      <td>5.0</td>\n",
              "      <td>2.0</td>\n",
              "      <td>4.0</td>\n",
              "      <td>2.0</td>\n",
              "      <td>3.0</td>\n",
              "      <td>1.0</td>\n",
              "      <td>4.0</td>\n",
              "    </tr>\n",
              "    <tr>\n",
              "      <th>2</th>\n",
              "      <td>3.0</td>\n",
              "      <td>4.0</td>\n",
              "      <td>3.0</td>\n",
              "      <td>2.0</td>\n",
              "      <td>3.0</td>\n",
              "      <td>2.0</td>\n",
              "      <td>4.0</td>\n",
              "      <td>4.0</td>\n",
              "      <td>2.0</td>\n",
              "      <td>2.0</td>\n",
              "      <td>...</td>\n",
              "      <td>2.0</td>\n",
              "      <td>3.0</td>\n",
              "      <td>3.0</td>\n",
              "      <td>4.0</td>\n",
              "      <td>1.0</td>\n",
              "      <td>2.0</td>\n",
              "      <td>1.0</td>\n",
              "      <td>4.0</td>\n",
              "      <td>2.0</td>\n",
              "      <td>5.0</td>\n",
              "    </tr>\n",
              "    <tr>\n",
              "      <th>3</th>\n",
              "      <td>2.0</td>\n",
              "      <td>2.0</td>\n",
              "      <td>4.0</td>\n",
              "      <td>2.0</td>\n",
              "      <td>4.0</td>\n",
              "      <td>1.0</td>\n",
              "      <td>3.0</td>\n",
              "      <td>3.0</td>\n",
              "      <td>2.0</td>\n",
              "      <td>2.0</td>\n",
              "      <td>...</td>\n",
              "      <td>4.0</td>\n",
              "      <td>1.0</td>\n",
              "      <td>2.0</td>\n",
              "      <td>1.0</td>\n",
              "      <td>2.0</td>\n",
              "      <td>5.0</td>\n",
              "      <td>2.0</td>\n",
              "      <td>3.0</td>\n",
              "      <td>1.0</td>\n",
              "      <td>4.0</td>\n",
              "    </tr>\n",
              "    <tr>\n",
              "      <th>4</th>\n",
              "      <td>3.0</td>\n",
              "      <td>3.0</td>\n",
              "      <td>5.0</td>\n",
              "      <td>3.0</td>\n",
              "      <td>5.0</td>\n",
              "      <td>3.0</td>\n",
              "      <td>1.0</td>\n",
              "      <td>5.0</td>\n",
              "      <td>3.0</td>\n",
              "      <td>1.0</td>\n",
              "      <td>...</td>\n",
              "      <td>1.0</td>\n",
              "      <td>3.0</td>\n",
              "      <td>1.0</td>\n",
              "      <td>5.0</td>\n",
              "      <td>1.0</td>\n",
              "      <td>5.0</td>\n",
              "      <td>1.0</td>\n",
              "      <td>5.0</td>\n",
              "      <td>1.0</td>\n",
              "      <td>5.0</td>\n",
              "    </tr>\n",
              "  </tbody>\n",
              "</table>\n",
              "<p>5 rows × 30 columns</p>\n",
              "</div>\n",
              "      <button class=\"colab-df-convert\" onclick=\"convertToInteractive('df-e8bfd6bb-5bba-4511-b131-270a0860b0c7')\"\n",
              "              title=\"Convert this dataframe to an interactive table.\"\n",
              "              style=\"display:none;\">\n",
              "        \n",
              "  <svg xmlns=\"http://www.w3.org/2000/svg\" height=\"24px\"viewBox=\"0 0 24 24\"\n",
              "       width=\"24px\">\n",
              "    <path d=\"M0 0h24v24H0V0z\" fill=\"none\"/>\n",
              "    <path d=\"M18.56 5.44l.94 2.06.94-2.06 2.06-.94-2.06-.94-.94-2.06-.94 2.06-2.06.94zm-11 1L8.5 8.5l.94-2.06 2.06-.94-2.06-.94L8.5 2.5l-.94 2.06-2.06.94zm10 10l.94 2.06.94-2.06 2.06-.94-2.06-.94-.94-2.06-.94 2.06-2.06.94z\"/><path d=\"M17.41 7.96l-1.37-1.37c-.4-.4-.92-.59-1.43-.59-.52 0-1.04.2-1.43.59L10.3 9.45l-7.72 7.72c-.78.78-.78 2.05 0 2.83L4 21.41c.39.39.9.59 1.41.59.51 0 1.02-.2 1.41-.59l7.78-7.78 2.81-2.81c.8-.78.8-2.07 0-2.86zM5.41 20L4 18.59l7.72-7.72 1.47 1.35L5.41 20z\"/>\n",
              "  </svg>\n",
              "      </button>\n",
              "      \n",
              "  <style>\n",
              "    .colab-df-container {\n",
              "      display:flex;\n",
              "      flex-wrap:wrap;\n",
              "      gap: 12px;\n",
              "    }\n",
              "\n",
              "    .colab-df-convert {\n",
              "      background-color: #E8F0FE;\n",
              "      border: none;\n",
              "      border-radius: 50%;\n",
              "      cursor: pointer;\n",
              "      display: none;\n",
              "      fill: #1967D2;\n",
              "      height: 32px;\n",
              "      padding: 0 0 0 0;\n",
              "      width: 32px;\n",
              "    }\n",
              "\n",
              "    .colab-df-convert:hover {\n",
              "      background-color: #E2EBFA;\n",
              "      box-shadow: 0px 1px 2px rgba(60, 64, 67, 0.3), 0px 1px 3px 1px rgba(60, 64, 67, 0.15);\n",
              "      fill: #174EA6;\n",
              "    }\n",
              "\n",
              "    [theme=dark] .colab-df-convert {\n",
              "      background-color: #3B4455;\n",
              "      fill: #D2E3FC;\n",
              "    }\n",
              "\n",
              "    [theme=dark] .colab-df-convert:hover {\n",
              "      background-color: #434B5C;\n",
              "      box-shadow: 0px 1px 3px 1px rgba(0, 0, 0, 0.15);\n",
              "      filter: drop-shadow(0px 1px 2px rgba(0, 0, 0, 0.3));\n",
              "      fill: #FFFFFF;\n",
              "    }\n",
              "  </style>\n",
              "\n",
              "      <script>\n",
              "        const buttonEl =\n",
              "          document.querySelector('#df-e8bfd6bb-5bba-4511-b131-270a0860b0c7 button.colab-df-convert');\n",
              "        buttonEl.style.display =\n",
              "          google.colab.kernel.accessAllowed ? 'block' : 'none';\n",
              "\n",
              "        async function convertToInteractive(key) {\n",
              "          const element = document.querySelector('#df-e8bfd6bb-5bba-4511-b131-270a0860b0c7');\n",
              "          const dataTable =\n",
              "            await google.colab.kernel.invokeFunction('convertToInteractive',\n",
              "                                                     [key], {});\n",
              "          if (!dataTable) return;\n",
              "\n",
              "          const docLinkHtml = 'Like what you see? Visit the ' +\n",
              "            '<a target=\"_blank\" href=https://colab.research.google.com/notebooks/data_table.ipynb>data table notebook</a>'\n",
              "            + ' to learn more about interactive tables.';\n",
              "          element.innerHTML = '';\n",
              "          dataTable['output_type'] = 'display_data';\n",
              "          await google.colab.output.renderOutput(dataTable, element);\n",
              "          const docLink = document.createElement('div');\n",
              "          docLink.innerHTML = docLinkHtml;\n",
              "          element.appendChild(docLink);\n",
              "        }\n",
              "      </script>\n",
              "    </div>\n",
              "  </div>\n",
              "  "
            ]
          },
          "metadata": {},
          "execution_count": 2
        }
      ],
      "source": [
        "data = pd.read_csv('/content/drive/MyDrive/data-final.csv', sep = '\\t')\n",
        "\n",
        "# Drop columns using column names\n",
        "columns_to_remove = data.columns[50:]\n",
        "data.drop(columns=columns_to_remove, inplace=True)\n",
        "columns_to_drop = ['EXT1','EXT4','EXT7','EXT10','EST3','EST5','EST9','EST10','AGR1','AGR2','AGR6','AGR8','CSN3','CSN7','CSN8','CSN10','OPN1','OPN8','OPN9','OPN10']\n",
        "data.drop(columns_to_drop, axis=1, inplace=True)\n",
        "\n",
        "#handling missing values\n",
        "null_values = data.isnull().sum()\n",
        "\n",
        "data_filled = data.fillna(data.mean())\n",
        "\n",
        "null_values = data_filled.isnull().sum()\n",
        "data_filled.head()"
      ]
    },
    {
      "cell_type": "markdown",
      "source": [
        "Clustering Data using K-means algorithm"
      ],
      "metadata": {
        "id": "Eu6LFjQ9FOOh"
      }
    },
    {
      "cell_type": "code",
      "execution_count": null,
      "metadata": {
        "colab": {
          "base_uri": "https://localhost:8080/",
          "height": 447
        },
        "id": "9Adog0dDedWY",
        "outputId": "534b8264-e03b-4150-f2e6-f310c836bbf7"
      },
      "outputs": [
        {
          "output_type": "stream",
          "name": "stderr",
          "text": [
            "/usr/local/lib/python3.10/dist-packages/sklearn/cluster/_kmeans.py:870: FutureWarning: The default value of `n_init` will change from 10 to 'auto' in 1.4. Set the value of `n_init` explicitly to suppress the warning\n",
            "  warnings.warn(\n"
          ]
        },
        {
          "output_type": "execute_result",
          "data": {
            "text/plain": [
              "   EXT2  EXT3  EXT5  EXT6  EXT8  ...  OPN4  OPN5  OPN6  OPN7  Clusters\n",
              "0   1.0   5.0   5.0   1.0   2.0  ...   1.0   4.0   1.0   5.0         3\n",
              "1   5.0   3.0   3.0   3.0   5.0  ...   2.0   3.0   1.0   4.0         0\n",
              "2   3.0   4.0   3.0   2.0   3.0  ...   1.0   4.0   2.0   5.0         3\n",
              "3   2.0   2.0   4.0   2.0   4.0  ...   2.0   3.0   1.0   4.0         0\n",
              "4   3.0   3.0   5.0   3.0   5.0  ...   1.0   5.0   1.0   5.0         3\n",
              "5   3.0   4.0   4.0   2.0   3.0  ...   1.0   3.0   1.0   5.0         3\n",
              "6   3.0   4.0   3.0   3.0   3.0  ...   3.0   4.0   1.0   5.0         3\n",
              "7   1.0   5.0   5.0   2.0   2.0  ...   1.0   5.0   1.0   4.0         3\n",
              "8   2.0   3.0   4.0   2.0   2.0  ...   1.0   4.0   1.0   5.0         3\n",
              "9   5.0   3.0   2.0   3.0   4.0  ...   1.0   3.0   3.0   4.0         1\n",
              "\n",
              "[10 rows x 31 columns]"
            ],
            "text/html": [
              "\n",
              "  <div id=\"df-e0d4e8e3-54f3-4f15-9c0e-b9f96f902108\">\n",
              "    <div class=\"colab-df-container\">\n",
              "      <div>\n",
              "<style scoped>\n",
              "    .dataframe tbody tr th:only-of-type {\n",
              "        vertical-align: middle;\n",
              "    }\n",
              "\n",
              "    .dataframe tbody tr th {\n",
              "        vertical-align: top;\n",
              "    }\n",
              "\n",
              "    .dataframe thead th {\n",
              "        text-align: right;\n",
              "    }\n",
              "</style>\n",
              "<table border=\"1\" class=\"dataframe\">\n",
              "  <thead>\n",
              "    <tr style=\"text-align: right;\">\n",
              "      <th></th>\n",
              "      <th>EXT2</th>\n",
              "      <th>EXT3</th>\n",
              "      <th>EXT5</th>\n",
              "      <th>EXT6</th>\n",
              "      <th>EXT8</th>\n",
              "      <th>...</th>\n",
              "      <th>OPN4</th>\n",
              "      <th>OPN5</th>\n",
              "      <th>OPN6</th>\n",
              "      <th>OPN7</th>\n",
              "      <th>Clusters</th>\n",
              "    </tr>\n",
              "  </thead>\n",
              "  <tbody>\n",
              "    <tr>\n",
              "      <th>0</th>\n",
              "      <td>1.0</td>\n",
              "      <td>5.0</td>\n",
              "      <td>5.0</td>\n",
              "      <td>1.0</td>\n",
              "      <td>2.0</td>\n",
              "      <td>...</td>\n",
              "      <td>1.0</td>\n",
              "      <td>4.0</td>\n",
              "      <td>1.0</td>\n",
              "      <td>5.0</td>\n",
              "      <td>3</td>\n",
              "    </tr>\n",
              "    <tr>\n",
              "      <th>1</th>\n",
              "      <td>5.0</td>\n",
              "      <td>3.0</td>\n",
              "      <td>3.0</td>\n",
              "      <td>3.0</td>\n",
              "      <td>5.0</td>\n",
              "      <td>...</td>\n",
              "      <td>2.0</td>\n",
              "      <td>3.0</td>\n",
              "      <td>1.0</td>\n",
              "      <td>4.0</td>\n",
              "      <td>0</td>\n",
              "    </tr>\n",
              "    <tr>\n",
              "      <th>2</th>\n",
              "      <td>3.0</td>\n",
              "      <td>4.0</td>\n",
              "      <td>3.0</td>\n",
              "      <td>2.0</td>\n",
              "      <td>3.0</td>\n",
              "      <td>...</td>\n",
              "      <td>1.0</td>\n",
              "      <td>4.0</td>\n",
              "      <td>2.0</td>\n",
              "      <td>5.0</td>\n",
              "      <td>3</td>\n",
              "    </tr>\n",
              "    <tr>\n",
              "      <th>3</th>\n",
              "      <td>2.0</td>\n",
              "      <td>2.0</td>\n",
              "      <td>4.0</td>\n",
              "      <td>2.0</td>\n",
              "      <td>4.0</td>\n",
              "      <td>...</td>\n",
              "      <td>2.0</td>\n",
              "      <td>3.0</td>\n",
              "      <td>1.0</td>\n",
              "      <td>4.0</td>\n",
              "      <td>0</td>\n",
              "    </tr>\n",
              "    <tr>\n",
              "      <th>4</th>\n",
              "      <td>3.0</td>\n",
              "      <td>3.0</td>\n",
              "      <td>5.0</td>\n",
              "      <td>3.0</td>\n",
              "      <td>5.0</td>\n",
              "      <td>...</td>\n",
              "      <td>1.0</td>\n",
              "      <td>5.0</td>\n",
              "      <td>1.0</td>\n",
              "      <td>5.0</td>\n",
              "      <td>3</td>\n",
              "    </tr>\n",
              "    <tr>\n",
              "      <th>5</th>\n",
              "      <td>3.0</td>\n",
              "      <td>4.0</td>\n",
              "      <td>4.0</td>\n",
              "      <td>2.0</td>\n",
              "      <td>3.0</td>\n",
              "      <td>...</td>\n",
              "      <td>1.0</td>\n",
              "      <td>3.0</td>\n",
              "      <td>1.0</td>\n",
              "      <td>5.0</td>\n",
              "      <td>3</td>\n",
              "    </tr>\n",
              "    <tr>\n",
              "      <th>6</th>\n",
              "      <td>3.0</td>\n",
              "      <td>4.0</td>\n",
              "      <td>3.0</td>\n",
              "      <td>3.0</td>\n",
              "      <td>3.0</td>\n",
              "      <td>...</td>\n",
              "      <td>3.0</td>\n",
              "      <td>4.0</td>\n",
              "      <td>1.0</td>\n",
              "      <td>5.0</td>\n",
              "      <td>3</td>\n",
              "    </tr>\n",
              "    <tr>\n",
              "      <th>7</th>\n",
              "      <td>1.0</td>\n",
              "      <td>5.0</td>\n",
              "      <td>5.0</td>\n",
              "      <td>2.0</td>\n",
              "      <td>2.0</td>\n",
              "      <td>...</td>\n",
              "      <td>1.0</td>\n",
              "      <td>5.0</td>\n",
              "      <td>1.0</td>\n",
              "      <td>4.0</td>\n",
              "      <td>3</td>\n",
              "    </tr>\n",
              "    <tr>\n",
              "      <th>8</th>\n",
              "      <td>2.0</td>\n",
              "      <td>3.0</td>\n",
              "      <td>4.0</td>\n",
              "      <td>2.0</td>\n",
              "      <td>2.0</td>\n",
              "      <td>...</td>\n",
              "      <td>1.0</td>\n",
              "      <td>4.0</td>\n",
              "      <td>1.0</td>\n",
              "      <td>5.0</td>\n",
              "      <td>3</td>\n",
              "    </tr>\n",
              "    <tr>\n",
              "      <th>9</th>\n",
              "      <td>5.0</td>\n",
              "      <td>3.0</td>\n",
              "      <td>2.0</td>\n",
              "      <td>3.0</td>\n",
              "      <td>4.0</td>\n",
              "      <td>...</td>\n",
              "      <td>1.0</td>\n",
              "      <td>3.0</td>\n",
              "      <td>3.0</td>\n",
              "      <td>4.0</td>\n",
              "      <td>1</td>\n",
              "    </tr>\n",
              "  </tbody>\n",
              "</table>\n",
              "<p>10 rows × 31 columns</p>\n",
              "</div>\n",
              "      <button class=\"colab-df-convert\" onclick=\"convertToInteractive('df-e0d4e8e3-54f3-4f15-9c0e-b9f96f902108')\"\n",
              "              title=\"Convert this dataframe to an interactive table.\"\n",
              "              style=\"display:none;\">\n",
              "        \n",
              "  <svg xmlns=\"http://www.w3.org/2000/svg\" height=\"24px\"viewBox=\"0 0 24 24\"\n",
              "       width=\"24px\">\n",
              "    <path d=\"M0 0h24v24H0V0z\" fill=\"none\"/>\n",
              "    <path d=\"M18.56 5.44l.94 2.06.94-2.06 2.06-.94-2.06-.94-.94-2.06-.94 2.06-2.06.94zm-11 1L8.5 8.5l.94-2.06 2.06-.94-2.06-.94L8.5 2.5l-.94 2.06-2.06.94zm10 10l.94 2.06.94-2.06 2.06-.94-2.06-.94-.94-2.06-.94 2.06-2.06.94z\"/><path d=\"M17.41 7.96l-1.37-1.37c-.4-.4-.92-.59-1.43-.59-.52 0-1.04.2-1.43.59L10.3 9.45l-7.72 7.72c-.78.78-.78 2.05 0 2.83L4 21.41c.39.39.9.59 1.41.59.51 0 1.02-.2 1.41-.59l7.78-7.78 2.81-2.81c.8-.78.8-2.07 0-2.86zM5.41 20L4 18.59l7.72-7.72 1.47 1.35L5.41 20z\"/>\n",
              "  </svg>\n",
              "      </button>\n",
              "      \n",
              "  <style>\n",
              "    .colab-df-container {\n",
              "      display:flex;\n",
              "      flex-wrap:wrap;\n",
              "      gap: 12px;\n",
              "    }\n",
              "\n",
              "    .colab-df-convert {\n",
              "      background-color: #E8F0FE;\n",
              "      border: none;\n",
              "      border-radius: 50%;\n",
              "      cursor: pointer;\n",
              "      display: none;\n",
              "      fill: #1967D2;\n",
              "      height: 32px;\n",
              "      padding: 0 0 0 0;\n",
              "      width: 32px;\n",
              "    }\n",
              "\n",
              "    .colab-df-convert:hover {\n",
              "      background-color: #E2EBFA;\n",
              "      box-shadow: 0px 1px 2px rgba(60, 64, 67, 0.3), 0px 1px 3px 1px rgba(60, 64, 67, 0.15);\n",
              "      fill: #174EA6;\n",
              "    }\n",
              "\n",
              "    [theme=dark] .colab-df-convert {\n",
              "      background-color: #3B4455;\n",
              "      fill: #D2E3FC;\n",
              "    }\n",
              "\n",
              "    [theme=dark] .colab-df-convert:hover {\n",
              "      background-color: #434B5C;\n",
              "      box-shadow: 0px 1px 3px 1px rgba(0, 0, 0, 0.15);\n",
              "      filter: drop-shadow(0px 1px 2px rgba(0, 0, 0, 0.3));\n",
              "      fill: #FFFFFF;\n",
              "    }\n",
              "  </style>\n",
              "\n",
              "      <script>\n",
              "        const buttonEl =\n",
              "          document.querySelector('#df-e0d4e8e3-54f3-4f15-9c0e-b9f96f902108 button.colab-df-convert');\n",
              "        buttonEl.style.display =\n",
              "          google.colab.kernel.accessAllowed ? 'block' : 'none';\n",
              "\n",
              "        async function convertToInteractive(key) {\n",
              "          const element = document.querySelector('#df-e0d4e8e3-54f3-4f15-9c0e-b9f96f902108');\n",
              "          const dataTable =\n",
              "            await google.colab.kernel.invokeFunction('convertToInteractive',\n",
              "                                                     [key], {});\n",
              "          if (!dataTable) return;\n",
              "\n",
              "          const docLinkHtml = 'Like what you see? Visit the ' +\n",
              "            '<a target=\"_blank\" href=https://colab.research.google.com/notebooks/data_table.ipynb>data table notebook</a>'\n",
              "            + ' to learn more about interactive tables.';\n",
              "          element.innerHTML = '';\n",
              "          dataTable['output_type'] = 'display_data';\n",
              "          await google.colab.output.renderOutput(dataTable, element);\n",
              "          const docLink = document.createElement('div');\n",
              "          docLink.innerHTML = docLinkHtml;\n",
              "          element.appendChild(docLink);\n",
              "        }\n",
              "      </script>\n",
              "    </div>\n",
              "  </div>\n",
              "  "
            ]
          },
          "metadata": {},
          "execution_count": 3
        }
      ],
      "source": [
        "#define 5 clusters and fit model\n",
        "kmeans = KMeans(n_clusters=5)\n",
        "k_fit = kmeans.fit(data_filled)\n",
        "\n",
        "# Predicting the Clusters\n",
        "pd.options.display.max_columns = 10\n",
        "\n",
        "#labels_ is used to identify Labels of each point\n",
        "predictions = k_fit.labels_\n",
        "data_filled['Clusters'] = predictions\n",
        "data_filled.head(10)"
      ]
    },
    {
      "cell_type": "markdown",
      "source": [
        "Split Dataset into Train and Test sets"
      ],
      "metadata": {
        "id": "_Xlf5Vw5Fioc"
      }
    },
    {
      "cell_type": "code",
      "execution_count": null,
      "metadata": {
        "colab": {
          "base_uri": "https://localhost:8080/"
        },
        "id": "Sfdi_RmWYdFD",
        "outputId": "d637f189-56b4-4550-833e-9c2b9dbc45bb"
      },
      "outputs": [
        {
          "output_type": "stream",
          "name": "stdout",
          "text": [
            "Training set shape: (812272, 30) (812272,)\n",
            "Test set shape: (203069, 30) (203069,)\n"
          ]
        }
      ],
      "source": [
        "# Split the data into training and test sets\n",
        "X = data_filled.iloc[:,:-1]\n",
        "y = data_filled['Clusters']\n",
        "\n",
        "X_train, X_test, y_train, y_test = train_test_split(X, y, test_size=0.2, random_state=42)\n",
        "\n",
        "# Print the shapes of the resulting datasets\n",
        "print(\"Training set shape:\", X_train.shape, y_train.shape)\n",
        "print(\"Test set shape:\", X_test.shape, y_test.shape)\n"
      ]
    },
    {
      "cell_type": "markdown",
      "source": [
        "Train model using KNN algorithm"
      ],
      "metadata": {
        "id": "3tLF36NAFtu9"
      }
    },
    {
      "cell_type": "code",
      "execution_count": null,
      "metadata": {
        "colab": {
          "base_uri": "https://localhost:8080/"
        },
        "id": "LlAKxUk4fgE5",
        "outputId": "54d22f95-a8e2-4a5c-de10-1e3c39f4ffe6"
      },
      "outputs": [
        {
          "output_type": "execute_result",
          "data": {
            "text/plain": [
              "['model']"
            ]
          },
          "metadata": {},
          "execution_count": 5
        }
      ],
      "source": [
        "from sklearn.neighbors import KNeighborsClassifier\n",
        "\n",
        "# Training the KNN model\n",
        "knn = KNeighborsClassifier(n_neighbors=5)  # You can adjust the value of n_neighbors as needed\n",
        "knn.fit(X_train, y_train)\n",
        "\n",
        "import joblib\n",
        "filename = \"model\"\n",
        "joblib.dump(knn, filename)\n"
      ]
    },
    {
      "cell_type": "code",
      "source": [
        "# Predicting personality traits\n",
        "y_pred = knn.predict(X_test)\n",
        "\n",
        "# Evaluating the model\n",
        "print(y_pred)"
      ],
      "metadata": {
        "id": "pYS3TwClejnR",
        "colab": {
          "base_uri": "https://localhost:8080/"
        },
        "outputId": "822a2c4e-ca8c-43aa-f285-3be5bd8d5371"
      },
      "execution_count": null,
      "outputs": [
        {
          "output_type": "stream",
          "name": "stdout",
          "text": [
            "[3 3 4 ... 3 2 0]\n"
          ]
        }
      ]
    },
    {
      "cell_type": "markdown",
      "source": [
        "Calculate accuracy for the model trained"
      ],
      "metadata": {
        "id": "7NzW37VGF4EK"
      }
    },
    {
      "cell_type": "code",
      "execution_count": null,
      "metadata": {
        "colab": {
          "base_uri": "https://localhost:8080/"
        },
        "id": "GfpfbxRDjUlf",
        "outputId": "4c899f20-0f22-439e-915c-e061ba2cd45b"
      },
      "outputs": [
        {
          "output_type": "stream",
          "name": "stdout",
          "text": [
            "0.8799373611925011\n"
          ]
        }
      ],
      "source": [
        "from sklearn.metrics import accuracy_score\n",
        "print(accuracy_score(y_test, y_pred))"
      ]
    },
    {
      "cell_type": "markdown",
      "source": [
        "## Predict personality with user inputs\n",
        "### Questions to ask user"
      ],
      "metadata": {
        "id": "nbbt2gfdGVJ2"
      }
    },
    {
      "cell_type": "code",
      "execution_count": null,
      "metadata": {
        "id": "zJHeqvP_sr6o"
      },
      "outputs": [],
      "source": [
        "ext_questions = {'EXT2' : 'I dont talk a lot',\n",
        "                 'EXT3' : 'I feel comfortable around people',\n",
        "                 'EXT5' : 'I start conversations',\n",
        "                 'EXT6' : 'I have little to say',\n",
        "                 'EXT8' : 'I dont like to draw attention to myself',\n",
        "                 'EXT9' : 'I dont mind being the center of attention'}\n",
        "\n",
        "est_questions = {'EST1' : 'I get stressed out easily',\n",
        "                 'EST2' : 'I am relaxed most of the time',\n",
        "                 'EST4' : 'I seldom feel blue',\n",
        "                 'EST6' : 'I get upset easily',\n",
        "                 'EST7' : 'I change my mood a lot',\n",
        "                 'EST8' : 'I have frequent mood swings'}\n",
        "\n",
        "agr_questions = {'AGR3' : 'I insult people',\n",
        "                 'AGR4' : 'I sympathize with others feelings',\n",
        "                 'AGR5' : 'I am not interested in other peoples problems',\n",
        "                 'AGR7' : 'I am not really interested in others',\n",
        "                 'AGR9' : 'I feel others emotions',\n",
        "                 'AGR10': 'I make people feel at ease'}\n",
        "\n",
        "csn_questions = {'CSN1' : 'I am always prepared',\n",
        "                 'CSN2' : 'I leave my belongings around',\n",
        "                 'CSN4' : 'I make a mess of things',\n",
        "                 'CSN5' : 'I get chores done right away',\n",
        "                 'CSN6' : 'I often forget to put things back in their proper place',\n",
        "                 'CSN9' : 'I follow a schedule'}\n",
        "\n",
        "opn_questions = {'OPN2' : 'I have difficulty understanding abstract ideas',\n",
        "                 'OPN3' : 'I have a vivid imagination',\n",
        "                 'OPN4' : 'I am not interested in abstract ideas',\n",
        "                 'OPN5' : 'I have excellent ideas',\n",
        "                 'OPN6' : 'I do not have a good imagination',\n",
        "                 'OPN7' : 'I am quick to understand things'}\n",
        "\n",
        "\n"
      ]
    },
    {
      "cell_type": "code",
      "execution_count": null,
      "metadata": {
        "id": "FemIcjTirA2I",
        "colab": {
          "base_uri": "https://localhost:8080/"
        },
        "outputId": "c6fba7a8-6717-4aed-d4e0-561a15205e5b"
      },
      "outputs": [
        {
          "output_type": "stream",
          "name": "stdout",
          "text": [
            "EXT2 Trait:\n",
            "I dont talk a lot (Enter your answer from 1 to 5): 2\n",
            "EXT3 Trait:\n",
            "I feel comfortable around people (Enter your answer from 1 to 5): 4\n",
            "EXT5 Trait:\n",
            "I start conversations (Enter your answer from 1 to 5): 1\n",
            "EXT6 Trait:\n",
            "I have little to say (Enter your answer from 1 to 5): 3\n",
            "EXT8 Trait:\n",
            "I dont like to draw attention to myself (Enter your answer from 1 to 5): 5\n",
            "EXT9 Trait:\n",
            "I dont mind being the center of attention (Enter your answer from 1 to 5): 1\n",
            "EST1 Trait:\n",
            "I get stressed out easily (Enter your answer from 1 to 5): 2\n",
            "EST2 Trait:\n",
            "I am relaxed most of the time (Enter your answer from 1 to 5): 4\n",
            "EST4 Trait:\n",
            "I seldom feel blue (Enter your answer from 1 to 5): 3\n",
            "EST6 Trait:\n",
            "I get upset easily (Enter your answer from 1 to 5): 5\n",
            "EST7 Trait:\n",
            "I change my mood a lot (Enter your answer from 1 to 5): 1\n",
            "EST8 Trait:\n",
            "I have frequent mood swings (Enter your answer from 1 to 5): 3\n",
            "AGR3 Trait:\n",
            "I insult people (Enter your answer from 1 to 5): 4\n",
            "AGR4 Trait:\n",
            "I sympathize with others feelings (Enter your answer from 1 to 5): 2\n",
            "AGR5 Trait:\n",
            "I am not interested in other peoples problems (Enter your answer from 1 to 5): 1\n",
            "AGR7 Trait:\n",
            "I am not really interested in others (Enter your answer from 1 to 5): 4\n",
            "AGR9 Trait:\n",
            "I feel others emotions (Enter your answer from 1 to 5): 5\n",
            "AGR10 Trait:\n",
            "I make people feel at ease (Enter your answer from 1 to 5): 2\n",
            "CSN1 Trait:\n",
            "I am always prepared (Enter your answer from 1 to 5): 1\n",
            "CSN2 Trait:\n",
            "I leave my belongings around (Enter your answer from 1 to 5): 3\n",
            "CSN4 Trait:\n",
            "I make a mess of things (Enter your answer from 1 to 5): 4\n",
            "CSN5 Trait:\n",
            "I get chores done right away (Enter your answer from 1 to 5): 1\n",
            "CSN6 Trait:\n",
            "I often forget to put things back in their proper place (Enter your answer from 1 to 5): 5\n",
            "CSN9 Trait:\n",
            "I follow a schedule (Enter your answer from 1 to 5): 2\n",
            "OPN2 Trait:\n",
            "I have difficulty understanding abstract ideas (Enter your answer from 1 to 5): 1\n",
            "OPN3 Trait:\n",
            "I have a vivid imagination (Enter your answer from 1 to 5): 5\n",
            "OPN4 Trait:\n",
            "I am not interested in abstract ideas (Enter your answer from 1 to 5): 1\n",
            "OPN5 Trait:\n",
            "I have excellent ideas (Enter your answer from 1 to 5): 3\n",
            "OPN6 Trait:\n",
            "I do not have a good imagination (Enter your answer from 1 to 5): 1\n",
            "OPN7 Trait:\n",
            "I am quick to understand things (Enter your answer from 1 to 5): 5\n",
            "{'EXT2': 2, 'EXT3': 4, 'EXT5': 1, 'EXT6': 3, 'EXT8': 5, 'EXT9': 1, 'EST1': 2, 'EST2': 4, 'EST4': 3, 'EST6': 5, 'EST7': 1, 'EST8': 3, 'AGR3': 4, 'AGR4': 2, 'AGR5': 1, 'AGR7': 4, 'AGR9': 5, 'AGR10': 2, 'CSN1': 1, 'CSN2': 3, 'CSN4': 4, 'CSN5': 1, 'CSN6': 5, 'CSN9': 2, 'OPN2': 1, 'OPN3': 5, 'OPN4': 1, 'OPN5': 3, 'OPN6': 1, 'OPN7': 5}\n"
          ]
        }
      ],
      "source": [
        "\n",
        "'''\n",
        "user_answers = {'EXT2': 5, 'EXT3': 3, 'EXT5': 3, 'EXT6': 3, 'EXT8': 5, 'EXT9': 1,\n",
        "                'EST1': 2, 'EST2': 3, 'EST4': 1, 'EST6': 1, 'EST7': 2, 'EST8': 1,\n",
        "                'AGR3': 1, 'AGR4': 5, 'AGR5': 1, 'AGR7': 3, 'AGR9': 5, 'AGR10': 3,\n",
        "                'CSN1': 3, 'CSN2': 2, 'CSN4': 3, 'CSN5': 3, 'CSN6': 1, 'CSN9': 5,\n",
        "                'OPN2': 2, 'OPN3': 4, 'OPN4': 2, 'OPN5': 3, 'OPN6': 1, 'OPN7': 4}\n",
        " '''\n",
        "\n",
        "user_answers = {}\n",
        "# Loop through the questions for each trait\n",
        "for trait, question in ext_questions.items():\n",
        "    print(f\"{trait} Trait:\")\n",
        "    answer = int(input(f\"{question} (Enter your answer from 1 to 5): \"))\n",
        "    user_answers[trait] = answer\n",
        "\n",
        "for trait, question in est_questions.items():\n",
        "    print(f\"{trait} Trait:\")\n",
        "    answer = int(input(f\"{question} (Enter your answer from 1 to 5): \"))\n",
        "    user_answers[trait] = answer\n",
        "\n",
        "for trait, question in agr_questions.items():\n",
        "    print(f\"{trait} Trait:\")\n",
        "    answer = int(input(f\"{question} (Enter your answer from 1 to 5): \"))\n",
        "    user_answers[trait] = answer\n",
        "\n",
        "for trait, question in csn_questions.items():\n",
        "    print(f\"{trait} Trait:\")\n",
        "    answer = int(input(f\"{question} (Enter your answer from 1 to 5): \"))\n",
        "    user_answers[trait] = answer\n",
        "\n",
        "for trait, question in opn_questions.items():\n",
        "    print(f\"{trait} Trait:\")\n",
        "    answer = int(input(f\"{question} (Enter your answer from 1 to 5): \"))\n",
        "    user_answers[trait] = answer\n",
        "\n",
        "# Create a DataFrame using the user's answers\n",
        "user_data = pd.DataFrame(user_answers, index=[0])\n",
        "\n",
        "print(user_answers)"
      ]
    },
    {
      "cell_type": "markdown",
      "source": [
        "Based on answers classify the user's personality"
      ],
      "metadata": {
        "id": "q9IOcuWSG45j"
      }
    },
    {
      "cell_type": "code",
      "source": [
        "'''# Split the data into features (X) and target (y)\n",
        "X_train = data_filled.drop('Clusters', axis=1)\n",
        "y_train = data_filled['Clusters']\n",
        "\n",
        "# Training the KNN model\n",
        "knn = KNeighborsClassifier(n_neighbors=5)\n",
        "knn.fit(X_train, y_train)\n",
        "\n",
        "# Create a DataFrame containing the user's answers\n",
        "user_data = pd.DataFrame(user_answers, index=[0])\n",
        "\n",
        "# Fill any missing values in the user data using the mean values from the original dataset\n",
        "user_data_filled = user_data.fillna(data.mean())\n",
        "\n",
        "# Predict the personality cluster for the user\n",
        "predicted_cluster = knn.predict(user_data_filled)\n",
        "print(\"Predicted Personality Cluster:\", predicted_cluster)\n",
        "\n",
        "'''\n",
        "# Get the feature column names used during training\n",
        "feature_columns = X_train.columns\n",
        "\n",
        "# Create a DataFrame containing the user's answers\n",
        "user_data = pd.DataFrame(user_answers, index=[0])\n",
        "\n",
        "# Reorder the user data columns to match the feature column order\n",
        "user_data_reordered = user_data[feature_columns]\n",
        "\n",
        "# Fill any missing values in the user data using the mean values from the original dataset\n",
        "user_data_filled = user_data_reordered.fillna(data.mean())\n",
        "\n",
        "# Predict the personality cluster for the user\n",
        "predicted_cluster = knn.predict(user_data_filled)\n",
        "print(\"Predicted Personality Cluster:\", predicted_cluster)\n"
      ],
      "metadata": {
        "colab": {
          "base_uri": "https://localhost:8080/"
        },
        "id": "Qs1yJxkdmqiV",
        "outputId": "03ca4b32-65f6-4624-cf08-f271b835e8ed"
      },
      "execution_count": null,
      "outputs": [
        {
          "output_type": "stream",
          "name": "stdout",
          "text": [
            "Predicted Personality Cluster: [1]\n"
          ]
        }
      ]
    },
    {
      "cell_type": "code",
      "source": [
        "# Define the mapping of cluster numbers to personality names\n",
        "personality_names = {\n",
        "    0: \"Introverted and Reserved\",\n",
        "    1: \"Friendly and Outgoing\",\n",
        "    2: \"Emotionally Stable\",\n",
        "    3: \"Sympathetic and Caring\",\n",
        "    4: \"Organized and Disciplined\"\n",
        "}\n",
        "\n",
        "# Predict the personality cluster for the user\n",
        "predicted_cluster = knn.predict(user_data_filled)\n",
        "\n",
        "# Get the corresponding personality name for the predicted cluster\n",
        "predicted_personality = personality_names[predicted_cluster[0]]\n",
        "\n",
        "print(\"Predicted Personality Cluster:\", predicted_cluster)\n",
        "print(\"Predicted Personality:\", predicted_personality)\n"
      ],
      "metadata": {
        "colab": {
          "base_uri": "https://localhost:8080/"
        },
        "id": "Ez4c42l1SHY-",
        "outputId": "21f10245-04af-4ef2-8aae-ddcc2dfcfc6b"
      },
      "execution_count": null,
      "outputs": [
        {
          "output_type": "stream",
          "name": "stdout",
          "text": [
            "Predicted Personality Cluster: [1]\n",
            "Predicted Personality: Friendly and Outgoing\n"
          ]
        }
      ]
    },
    {
      "cell_type": "code",
      "source": [
        "# Get the predicted probabilities for all clusters\n",
        "cluster_probabilities = knn.predict_proba(user_data_filled)[0]\n",
        "\n",
        "\n",
        "# Calculate the percentage similarity for each cluster\n",
        "for cluster_num, similarity in enumerate(cluster_probabilities):\n",
        "    if cluster_num != predicted_cluster:\n",
        "        personality_name = personality_names[cluster_num]\n",
        "        percentage_similarity = similarity * 100\n",
        "        print(f\"Similarity with {personality_name}: {percentage_similarity:.2f}%\")\n",
        "        #similarity_percentages[personality_name] = percentage_similarity\n",
        "\n"
      ],
      "metadata": {
        "colab": {
          "base_uri": "https://localhost:8080/"
        },
        "id": "DeS-ALpUUBPH",
        "outputId": "025bf708-5bd0-4fef-c9bf-e533fdf5c6d4"
      },
      "execution_count": null,
      "outputs": [
        {
          "output_type": "stream",
          "name": "stdout",
          "text": [
            "Similarity with Introverted and Reserved: 20.00%\n",
            "Similarity with Emotionally Stable: 0.00%\n",
            "Similarity with Sympathetic and Caring: 0.00%\n",
            "Similarity with Organized and Disciplined: 40.00%\n"
          ]
        }
      ]
    }
  ],
  "metadata": {
    "accelerator": "GPU",
    "colab": {
      "provenance": [],
      "gpuType": "T4",
      "mount_file_id": "1tLvcMm-4W7YfXeWB2_eJGt0v4APjxdAY",
      "authorship_tag": "ABX9TyMDWJl4jCqHoKxK4XsdlzBb",
      "include_colab_link": true
    },
    "kernelspec": {
      "display_name": "Python 3",
      "name": "python3"
    },
    "language_info": {
      "name": "python"
    }
  },
  "nbformat": 4,
  "nbformat_minor": 0
}
